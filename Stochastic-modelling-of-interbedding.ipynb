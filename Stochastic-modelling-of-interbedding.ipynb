{
 "cells": [
  {
   "cell_type": "markdown",
   "metadata": {},
   "source": [
    "## interbedding: a python function for stochastic modelling of the interbedding architectures\n",
    "Dongfang Qu, University of Copenhagen"
   ]
  },
  {
   "cell_type": "markdown",
   "metadata": {},
   "source": [
    "### Introduction\n",
    "- Interbedding is common in geology, it occurs when beds of a particular lithology lie between or alternate with beds of a different lithology. It often reflects a cyclical change in sedimentary conditions, e.g. sea level variations. \n",
    "\n",
    "- I developed this stochastic interbedding modelling function for generating multiple realizations of interbedded chalk and flint layers, in which the thickness of the chalk layers bounded by the flint bands varies laterally while the thickness of flint bands is constant. This function can be adapted to model other interbedding cases, such as the interbedding of limestone and marl layers, the interbedding of sandstone and shale layers.\n",
    "\n",
    "- User specified input parameters include: 2D model size and resolution, mean and standard deviation of the thickness distribution for lithology_1 (chalk in my case), and variogram range which describes the lateral variation of the thickness \n",
    "\n",
    "- The output is a 2D matrix with 0s indicating lithology_1(chalk in my case) and 1s indicating lithology_2(flint bands in my case)\n",
    "\n",
    "### Method\n",
    "\n",
    "- Strategy: Model the thickness of each chalk layer between two flint bands using variogram-based geostatistical modelling method(Janson and Madriz, 2012). Add flint layers on top of each chalk layer. \n",
    "\n",
    "- Psudocode: Make a zero matrix, replace some of the zeros with flint indicator; Positions of the zeros to be replaced  = accumulated thickness of chalk layers + accumulated thickness of flint layers.\n",
    "\n",
    "- GeostatsPy (reimplementation of GSLIB in python, https://github.com/GeostatsGuy/GeostatsPy) is used for performing the Sequential Gaussian Simulation. \n"
   ]
  },
  {
   "cell_type": "markdown",
   "metadata": {},
   "source": [
    "### Load libraries"
   ]
  },
  {
   "cell_type": "code",
   "execution_count": 1,
   "metadata": {},
   "outputs": [],
   "source": [
    "import os                                                 # to set current working directory \n",
    "import numpy as np                                        # arrays and matrix math\n",
    "import pandas as pd                                       # DataFrames\n",
    "import matplotlib.pyplot as plt                           # plotting\n",
    "import random as rand\n",
    "import geostatspy_functions as gf                        #  geostatspy_functions.py, saved in the same directory                                                       "
   ]
  },
  {
   "cell_type": "markdown",
   "metadata": {},
   "source": [
    "### Function"
   ]
  },
  {
   "cell_type": "markdown",
   "metadata": {},
   "source": [
    "I saved the geostatspy functions(https://github.com/GeostatsGuy/GeostatsPy/blob/master/examples/GeostatsPy_Testing.ipynb) as a .py file and import it at the beginning of the Python workflow. \n",
    "\n",
    "The executables associated with the functions should be in the current working directory. These include GSLIB programs, which can be downloaded from gslib.com. Please refer to https://github.com/GeostatsGuy/GeostatsPy for more details.\n",
    "\n",
    "- nscore.exe\n",
    "- declus.exe\n",
    "- gam.exe\n",
    "- gamv.exe\n",
    "- vmodel.exe\n",
    "- kb2d.exe\n",
    "- sgsim.exe"
   ]
  },
  {
   "cell_type": "code",
   "execution_count": 2,
   "metadata": {},
   "outputs": [],
   "source": [
    "def interbedding (nx,ny, cell_size, mean, stdev, hmin, hmax):\n",
    "    '''return a 2D array composed of 0s (lithofacies_1, e.g. chalk layer ) \n",
    "    and 1s (lithofacies_2, e.g. flint layers) \n",
    "    :nx: number of cells in the x-direction, i.e. number of columns\n",
    "    :ny: number of cells in the y-direction, i.e. number of rows\n",
    "    :accu: accumulated thickness of litholoy_1, in number of cells\n",
    "    :mean, stdev: mean and standard deviation of thickness of lithology_1, or spacing between lithology_2\n",
    "    :hmin, hmax: variogram range of thickness distribution is a random number between hmin and hmax, in meter\n",
    "    '''\n",
    "    model = np.zeros ((ny,nx))\n",
    "    accu = np.zeros((ny,))     # accumulated thickness\n",
    "    \n",
    "    for i in range(int(ny*cell_size/mean)):\n",
    "        h = rand.randint(hmin,hmax)    # variogram range, a random value between hmin and hmax, in meter \n",
    "        var = gf.make_variogram(nug=0.0,nst=1,it1=1,cc1=1.0,azi1=90,hmaj1=h,hmin1=ny*cell_size/10) # variogram for stochastic simulation\n",
    "        seed = rand.randint(1000,2000)  # random number seed  for stochastic simulation   \n",
    "        thickness = gf.GSLIB_sgsim_2d_uncond(1,nx,ny,cell_size,seed,var,\"Thickness\") # Make a unconditional simulation\n",
    "        thickness = gf.affine(thickness,mean,stdev)\n",
    "        accu += thickness[1]/cell_size   #transform thickness in meter to number of cells\n",
    "        for count, value in enumerate(accu):\n",
    "            if value <= ny:\n",
    "                model[199-int(value),count] = 1 # replace some 0s with 1s\n",
    "        accu += 1\n",
    "    \n",
    "    plt.figure(figsize=(12, 12))\n",
    "    plt.imshow(model)  \n",
    "    plt.xticks(np.arange(0,nx,step=(1/cell_size)*int((nx*cell_size)/10)),np.arange(0, int(nx*cell_size), step= int((nx*cell_size)/10)))  # set positions and labels for x-axis\n",
    "    plt.yticks(np.arange(0,ny,step=(1/cell_size)*int((ny*cell_size)/10)),np.arange(0, int(ny*cell_size), step= int((ny*cell_size)/10)))\n",
    "    np.savetxt('model.csv',model)"
   ]
  },
  {
   "cell_type": "markdown",
   "metadata": {},
   "source": [
    "### Examples\n",
    "#### Case 1: Interbedded chalk and flint bands, short variogram range\n",
    "- It can be seen that with a shorter variogram range (20-30m) and a larger standard deviation (1.5), the thickness of the chalk layers between the flint bands are more variable. The flint bands occur as discontinuous nodules in this case, which is consistent with what observed from the outcrops.\n",
    "- with the same input, each run generate a unique realization"
   ]
  },
  {
   "cell_type": "code",
   "execution_count": 3,
   "metadata": {},
   "outputs": [
    {
     "data": {
      "image/png": "[encoded data removed]",
      "text/plain": [
       "<Figure size 864x864 with 1 Axes>"
      ]
     },
     "metadata": {
      "needs_background": "light"
     },
     "output_type": "display_data"
    }
   ],
   "source": [
    "# run the function\n",
    "interbedding (nx=200,ny=200, cell_size=0.25, mean=5, stdev=1.5, hmin=20, hmax=30)"
   ]
  },
  {
   "cell_type": "markdown",
   "metadata": {},
   "source": [
    "#### Case 2: Interbedded chalk and flint bands, long variogram range\n",
    "With a long variogram range (200-300m), and a smaller standard variation (0.5), the thickness of chalk layers between the flint bands are less variable. "
   ]
  },
  {
   "cell_type": "code",
   "execution_count": 4,
   "metadata": {},
   "outputs": [
    {
     "data": {
      "image/png": "[encoded data removed]",
      "text/plain": [
       "<Figure size 864x864 with 1 Axes>"
      ]
     },
     "metadata": {
      "needs_background": "light"
     },
     "output_type": "display_data"
    }
   ],
   "source": [
    "# run the function\n",
    "interbedding (nx=200,ny=200, cell_size=0.25, mean=5, stdev=0.5, hmin=200, hmax=300)"
   ]
  },
  {
   "cell_type": "markdown",
   "metadata": {},
   "source": [
    "### References\n",
    "- Pyrcz, M. GeostatsPy. https://github.com/GeostatsGuy/GeostatsPy/blob/master/examples/GeostatsPy_Testing.ipynb\n",
    "- Janson, X. and Madriz, D.D., 2012. Geomodelling of carbonate mounds using two-point and multipoint statistics. Geological Society, London, Special Publications, 370(1), pp.229-246."
   ]
  }
 ],
 "metadata": {
  "kernelspec": {
   "display_name": "Python 3",
   "language": "python",
   "name": "python3"
  },
  "language_info": {
   "codemirror_mode": {
    "name": "ipython",
    "version": 3
   },
   "file_extension": ".py",
   "mimetype": "text/x-python",
   "name": "python",
   "nbconvert_exporter": "python",
   "pygments_lexer": "ipython3",
   "version": "3.7.3"
  }
 },
 "nbformat": 4,
 "nbformat_minor": 2
}
